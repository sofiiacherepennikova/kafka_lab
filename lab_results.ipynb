{
 "cells": [
  {
   "cell_type": "markdown",
   "metadata": {},
   "source": [
    "Установка/настройка Kafka:\n",
    "1)  Загрузка предустановленных вспомогательных скриптов с официального сайта для вспомогательных операций с топиками и проверки работоспособности\n",
    "2)  Настройка окружения:"
   ]
  },
  {
   "cell_type": "code",
   "execution_count": null,
   "metadata": {
    "vscode": {
     "languageId": "plaintext"
    }
   },
   "outputs": [],
   "source": [
    "    export KAFKA_ROOT_DIR=`pwd`\n",
    "    cd ${KAFKA_ROOT_DIR}\n",
    "    export KAFKA_DIR=${KAFKA_ROOT_DIR}/kafka_2.13-3.7.0\n",
    "    export PATH=${KAFKA_DIR}/bin:${PATH}"
   ]
  },
  {
   "cell_type": "markdown",
   "metadata": {},
   "source": [
    "Разворачиваем контейнер с Kafka - zookeeper сервер + 3 брокера (конфиг прилагается):"
   ]
  },
  {
   "cell_type": "code",
   "execution_count": null,
   "metadata": {
    "vscode": {
     "languageId": "plaintext"
    }
   },
   "outputs": [],
   "source": [
    "#запуск контейнера с кластером\n",
    "docker-compose -f docker-compose-cluster.yml up -d\n",
    "\n",
    "#Проверяем, что все процессы запущены и работают\n",
    "docker-compose -f docker-compose-cluster.yml ps"
   ]
  },
  {
   "cell_type": "markdown",
   "metadata": {},
   "source": [
    "Создание топиков Kafka для дальнейшей работы. Так как у нас три брокера, то имеет смысл делать репликацию:"
   ]
  },
  {
   "cell_type": "code",
   "execution_count": null,
   "metadata": {
    "vscode": {
     "languageId": "plaintext"
    }
   },
   "outputs": [],
   "source": [
    "#Создание топиков\n",
    "    kafka-topics.sh --bootstrap-server localhost:9092 --create --topic raw_data --replication-factor 3 --partitions 3\n",
    "    kafka-topics.sh --bootstrap-server localhost:9092 --create --topic processed_data --replication-factor 3 --partitions 3\n",
    "    kafka-topics.sh --bootstrap-server localhost:9092 --create --topic visual_data --replication-factor 3 --partitions 3\n",
    "    kafka-topics.sh --bootstrap-server localhost:9092 --create --topic ml_results --replication-factor 3 --partitions 3\n",
    "\n",
    "#Проверка информации о топиках\n",
    "    kafka-topics.sh --bootstrap-server localhost:9092 --describe --topic raw_data\n",
    "\n",
    "#Проверяем, что все успешно - все 4 топика должны отображаться в результате этой команды:\n",
    "    kafka-topics.sh --bootstrap-server localhost:9092 --list"
   ]
  },
  {
   "cell_type": "markdown",
   "metadata": {},
   "source": [
    "Запуск основного приложения:\n",
    "   1) Читает датасет из Spotify_Tracks_Dataset.csv входняка и записывает данные в 'raw_data' топик Кафки с помощью продьюсера.\n",
    "   2) Processing Consumer - выделяет из всего датасета только треки в жанрах 'pop', 'acoustic', 'disco' and 'k-pop' и записывает их в топик 'processed_data'\n",
    "   3) Visualize Consumer:\n",
    "       a) Топ музыкальных жанров на основе суммарной популярности треков\n",
    "       b) Топ-25 песен на основе популярности трека\n",
    "       c) Выбираем Топ-3 жанра и для каждого показываем Топ-5 треков\n",
    "       d) Показываем гистограмму распределения дополнительных характеристик треков - популярность, громкость, танцевальность и тд.\n",
    "       e) Записываем финальный датафрейм, который использовался для визуализации в топик 'visual_data'\n",
    "   4) ML Consumer - предсказание популярности трека на основе его дополнительных характеристик. Результат предсказаний записывается в топик 'ml_results'"
   ]
  },
  {
   "cell_type": "code",
   "execution_count": null,
   "metadata": {
    "vscode": {
     "languageId": "plaintext"
    }
   },
   "outputs": [],
   "source": [
    "python3 Kafka_lab.py"
   ]
  },
  {
   "cell_type": "markdown",
   "metadata": {},
   "source": [
    "Детали реализации:\n",
    "1)  Отдельные классы для продьюсера и консьюмера.\n",
    "    a) В продьюсере был испробован time.sleep() для эмуляции реального построчного поступления данных на вход.\n",
    "    b) В процессе работы было использвоано несколько консьюмеров. Каждый со своим временным критерием остановки.\n",
    "2)  Для одного из консьюмеров визуализация реализована с помощью plotly. Для МЛ консьюмера - matplotlib. "
   ]
  },
  {
   "cell_type": "markdown",
   "metadata": {},
   "source": [
    "![ОПИСАНИЕ](result_pics/top_songs_1.png)\n"
   ]
  },
  {
   "cell_type": "markdown",
   "metadata": {},
   "source": [
    "![ОПИСАНИЕ](result_pics/top_songs_2.png)\n"
   ]
  },
  {
   "cell_type": "markdown",
   "metadata": {},
   "source": [
    "![ОПИСАНИЕ](result_pics/pic1.png)\n"
   ]
  },
  {
   "cell_type": "markdown",
   "metadata": {},
   "source": [
    "![ОПИСАНИЕ](result_pics/pic2.png)\n"
   ]
  },
  {
   "cell_type": "markdown",
   "metadata": {},
   "source": [
    "![ОПИСАНИЕ](result_pics/pic4.png)\n"
   ]
  },
  {
   "cell_type": "markdown",
   "metadata": {},
   "source": [
    "Задача Machine Learning на выбранном датасете\n",
    "\n"
   ]
  },
  {
   "cell_type": "markdown",
   "metadata": {},
   "source": [
    "На основании характеристик треков будем предсказывать их популярность. Из фичей оставим только 'artists', 'track_genre', 'danceability', 'loudness', чтобы контролировать количество параметров при обучении, а в качестве таргета возьмем 'popularity'. Заэнкодим текстовые данные (их много, поэтому количество столбцов в датасете резко возрастет)."
   ]
  },
  {
   "cell_type": "markdown",
   "metadata": {},
   "source": [
    "В условиях поставленной задачи сравним RandomForestRegressor и LinearRegressor по метрике MAE. \n",
    "\n"
   ]
  },
  {
   "cell_type": "markdown",
   "metadata": {},
   "source": [
    "RandomForestRegressor:"
   ]
  },
  {
   "cell_type": "markdown",
   "metadata": {},
   "source": [
    "![ОПИСАНИЕ](result_pics/randomforest.png)"
   ]
  },
  {
   "cell_type": "markdown",
   "metadata": {},
   "source": [
    "LinearRegressor:"
   ]
  },
  {
   "cell_type": "markdown",
   "metadata": {},
   "source": [
    "![ОПИСАНИЕ](result_pics/linearregression.png)"
   ]
  },
  {
   "cell_type": "markdown",
   "metadata": {},
   "source": [
    "Из визуализации видно, что random forest хорошо угадывает треки, имеющие среднюю популярность, но на очень популярных или очень непопулярных треках ошибается. "
   ]
  }
 ],
 "metadata": {
  "language_info": {
   "name": "python"
  }
 },
 "nbformat": 4,
 "nbformat_minor": 2
}
